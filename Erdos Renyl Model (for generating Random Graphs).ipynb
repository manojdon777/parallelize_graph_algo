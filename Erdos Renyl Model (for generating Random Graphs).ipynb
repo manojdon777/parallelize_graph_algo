{
 "cells": [
  {
   "cell_type": "code",
   "execution_count": null,
   "id": "ab03bf91",
   "metadata": {},
   "outputs": [],
   "source": [
    "#importing the networkx library\n",
    "import networkx as nx\n",
    "\n",
    "#importing the matplotlib library for plotting the graph\n",
    "import matplotlib.pyplot as plt\n",
    "\n",
    "nodes = 5000\n",
    "probability = 0.72\n",
    "\n",
    "G= nx.erdos_renyi_graph(nodes, probability)\n",
    "filename = 'input/erdos' + '_' + str(nodes) + '_' + str(probability) + '.txt'\n",
    "f = open(filename, \"w\")\n",
    "\n",
    "for edge in list(G.edges):\n",
    "    f.write(str(edge[0]) + ' ' + str(edge[1]) + '\\n')\n",
    "#     f.write(str(edge[1]) + ' ' + str(edge[0]) + '\\n')   \n",
    "\n",
    "f.close()\n"
   ]
  },
  {
   "cell_type": "code",
   "execution_count": null,
   "id": "78746222",
   "metadata": {},
   "outputs": [],
   "source": []
  }
 ],
 "metadata": {
  "kernelspec": {
   "display_name": "Python 3 (ipykernel)",
   "language": "python",
   "name": "python3"
  },
  "language_info": {
   "codemirror_mode": {
    "name": "ipython",
    "version": 3
   },
   "file_extension": ".py",
   "mimetype": "text/x-python",
   "name": "python",
   "nbconvert_exporter": "python",
   "pygments_lexer": "ipython3",
   "version": "3.10.12"
  }
 },
 "nbformat": 4,
 "nbformat_minor": 5
}
